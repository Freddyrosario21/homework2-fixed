{
 "cells": [
  {
   "cell_type": "markdown",
   "id": "c209b646",
   "metadata": {},
   "source": [
    "### Homework #2"
   ]
  },
  {
   "cell_type": "markdown",
   "id": "869ebfd6",
   "metadata": {},
   "source": [
    "1. Round 4.5667 to the nearest hundreth (2 decimals) using a build-in function, round()."
   ]
  },
  {
   "cell_type": "code",
   "execution_count": 1,
   "id": "123658aa",
   "metadata": {},
   "outputs": [
    {
     "data": {
      "text/plain": [
       "4.57"
      ]
     },
     "execution_count": 1,
     "metadata": {},
     "output_type": "execute_result"
    }
   ],
   "source": [
    "round (4.5667, 2)"
   ]
  },
  {
   "cell_type": "markdown",
   "id": "9d3f352c",
   "metadata": {},
   "source": [
    "2. Convert \"657\" to an integer data type"
   ]
  },
  {
   "cell_type": "code",
   "execution_count": 11,
   "id": "d5a67683",
   "metadata": {},
   "outputs": [
    {
     "data": {
      "text/plain": [
       "657"
      ]
     },
     "execution_count": 11,
     "metadata": {},
     "output_type": "execute_result"
    }
   ],
   "source": [
    "int (\"657\")"
   ]
  },
  {
   "cell_type": "markdown",
   "id": "a36f06d4",
   "metadata": {},
   "source": [
    "3. Write a program to get two numbers from a user. Then, create a 6-digit code that is a series of randomly generated numbers between the two numbers given by the user. Print the 6-digit code so all digits are separated by a dash. "
   ]
  },
  {
   "cell_type": "code",
   "execution_count": 15,
   "id": "021c92d4",
   "metadata": {},
   "outputs": [
    {
     "name": "stdout",
     "output_type": "stream",
     "text": [
      "give me a number: 6\n",
      "give me another number: 10\n",
      "the code is =  10-9-8-9-9-8\n"
     ]
    }
   ],
   "source": [
    "import random as rand\n",
    "\n",
    "num1 = int(input('give me a number: '))\n",
    "num2 = int(input('give me another number: '))\n",
    "\n",
    "code1 = rand.randint(num1, num2)\n",
    "code2 = rand.randint(num1, num2)\n",
    "code3 = rand.randint(num1, num2)\n",
    "code4 = rand.randint(num1, num2)\n",
    "code5 = rand.randint(num1, num2)\n",
    "code6 = rand.randint(num1, num2)\n",
    "\n",
    "print (f\"the code is = {code1}-{code2}-{code3}-{code4}-{code5}-{code6}\")"
   ]
  },
  {
   "cell_type": "markdown",
   "id": "ee1441a1",
   "metadata": {},
   "source": [
    "4. Write a program to remove ALL the white spaces from the following text:\n",
    "\n",
    "        Hickory, dickory, dock,     \n",
    "        The mouse ran up the clock.   \n",
    "        The clock struck one,   \n",
    "        The mouse ran down,                      \n",
    "        Hickory, dickory, dock                  "
   ]
  },
  {
   "cell_type": "code",
   "execution_count": 49,
   "id": "8bf680f1",
   "metadata": {},
   "outputs": [],
   "source": [
    "line1 = \" Hickory, dickory, dock,\"\n",
    "\n"
   ]
  },
  {
   "cell_type": "code",
   "execution_count": 1,
   "id": "59d9c718",
   "metadata": {},
   "outputs": [
    {
     "ename": "NameError",
     "evalue": "name 'line1' is not defined",
     "output_type": "error",
     "traceback": [
      "\u001b[1;31m---------------------------------------------------------------------------\u001b[0m",
      "\u001b[1;31mNameError\u001b[0m                                 Traceback (most recent call last)",
      "\u001b[1;32mC:\\Users\\RVHU32~1\\AppData\\Local\\Temp/ipykernel_9988/3885480897.py\u001b[0m in \u001b[0;36m<module>\u001b[1;34m\u001b[0m\n\u001b[1;32m----> 1\u001b[1;33m \u001b[0mline1\u001b[0m \u001b[1;33m=\u001b[0m \u001b[0mline1\u001b[0m\u001b[1;33m.\u001b[0m\u001b[0mstrip\u001b[0m \u001b[1;33m(\u001b[0m\u001b[1;33m)\u001b[0m\u001b[1;33m\u001b[0m\u001b[1;33m\u001b[0m\u001b[0m\n\u001b[0m",
      "\u001b[1;31mNameError\u001b[0m: name 'line1' is not defined"
     ]
    }
   ],
   "source": [
    "line1 = line1.strip ()"
   ]
  },
  {
   "cell_type": "code",
   "execution_count": null,
   "id": "11c24618",
   "metadata": {},
   "outputs": [],
   "source": []
  },
  {
   "cell_type": "markdown",
   "id": "72d87b5b",
   "metadata": {},
   "source": [
    "5. Write a function to calculate the miles per gallon. Get a miles driven and gallons used from a user and call your function to calculate the miles per gallon."
   ]
  },
  {
   "cell_type": "code",
   "execution_count": 30,
   "id": "27be7372",
   "metadata": {},
   "outputs": [],
   "source": [
    "def miles_per_gallon(miles,gallons):\n",
    "    mpg = miles/gallons\n",
    "    mpg = round(mpg, 2)\n",
    "    return mpg\n",
    "    "
   ]
  },
  {
   "cell_type": "code",
   "execution_count": 31,
   "id": "082423a3",
   "metadata": {},
   "outputs": [
    {
     "name": "stdout",
     "output_type": "stream",
     "text": [
      "Enter miles driven: 120\n",
      "enter gallons used: 10\n"
     ]
    },
    {
     "ename": "NameError",
     "evalue": "name 'Print' is not defined",
     "output_type": "error",
     "traceback": [
      "\u001b[1;31m---------------------------------------------------------------------------\u001b[0m",
      "\u001b[1;31mNameError\u001b[0m                                 Traceback (most recent call last)",
      "\u001b[1;32mC:\\Users\\RVHU32~1\\AppData\\Local\\Temp/ipykernel_9880/3836135798.py\u001b[0m in \u001b[0;36m<module>\u001b[1;34m\u001b[0m\n\u001b[0;32m      4\u001b[0m \u001b[0mmpg\u001b[0m \u001b[1;33m=\u001b[0m \u001b[0mmiles_per_gallon\u001b[0m\u001b[1;33m(\u001b[0m\u001b[0mmiles_driven\u001b[0m\u001b[1;33m,\u001b[0m \u001b[0mgallons_used\u001b[0m\u001b[1;33m)\u001b[0m\u001b[1;33m\u001b[0m\u001b[1;33m\u001b[0m\u001b[0m\n\u001b[0;32m      5\u001b[0m \u001b[1;33m\u001b[0m\u001b[0m\n\u001b[1;32m----> 6\u001b[1;33m \u001b[0mPrint\u001b[0m \u001b[1;33m(\u001b[0m\u001b[1;34mf\"you got {mpg} miles to the gallon\"\u001b[0m\u001b[1;33m)\u001b[0m\u001b[1;33m\u001b[0m\u001b[1;33m\u001b[0m\u001b[0m\n\u001b[0m",
      "\u001b[1;31mNameError\u001b[0m: name 'Print' is not defined"
     ]
    }
   ],
   "source": [
    "miles_driven = float(input(\"Enter miles driven: \"))\n",
    "gallons_used = float(input(\"enter gallons used: \"))\n",
    "\n",
    "mpg = miles_per_gallon(miles_driven, gallons_used)\n",
    "\n",
    "Print (f\"you got {mpg} miles to the gallon\")\n"
   ]
  },
  {
   "cell_type": "markdown",
   "id": "1f3942b8",
   "metadata": {},
   "source": [
    "6. Enhance the <b>compute()</b> function created during Module 2. Enhance the function to compute a circle's area and circumference where:\n",
    "\n",
    " - circle's area = 3.14 X (radius X radius)   \n",
    " - circle's circumference = 3.14 X diameter"
   ]
  },
  {
   "cell_type": "code",
   "execution_count": null,
   "id": "df43daca",
   "metadata": {},
   "outputs": [],
   "source": []
  },
  {
   "cell_type": "code",
   "execution_count": null,
   "id": "fa8de89a",
   "metadata": {},
   "outputs": [],
   "source": []
  },
  {
   "cell_type": "markdown",
   "id": "4c5d83bb",
   "metadata": {},
   "source": [
    "7. Write a function called multiply_two() that accepts two parameters. The function should print a message like '15 * 2 = 30'.  Randomly generate two numbers between 1 and 100, then call the function with the two random numbers."
   ]
  },
  {
   "cell_type": "code",
   "execution_count": 43,
   "id": "fe5ca2dc",
   "metadata": {},
   "outputs": [
    {
     "name": "stdout",
     "output_type": "stream",
     "text": [
      "20 * 78 = 1560\n"
     ]
    }
   ],
   "source": [
    "import random as rand\n",
    "\n",
    "def multiply_two (param1, param2):\n",
    "    print(f\"{param1} * {param2} = {param1 * param2}\")\n",
    "    \n",
    "multiply_two (rand.randint(1, 100), rand.randint (1, 100))"
   ]
  },
  {
   "cell_type": "code",
   "execution_count": null,
   "id": "9f83774c",
   "metadata": {},
   "outputs": [],
   "source": []
  },
  {
   "cell_type": "markdown",
   "id": "36865477",
   "metadata": {},
   "source": [
    "8. Create a function for a multiplication table.  Get a number from a user and then call you function which produces a multiplication table for that number.\n",
    "The output should look something like this:\n",
    "\n",
    "        Enter a number: 3\n",
    "        3 X 1 = 3\n",
    "        3 X 2 = 6\n",
    "        3 X 3 = 9\n",
    "        3 X 4 = 12\n",
    "        3 X 5 = 15\n",
    "        3 X 6 = 18\n",
    "        3 X 7 = 21\n",
    "        3 X 8 = 24\n",
    "        3 X 9 = 27"
   ]
  },
  {
   "cell_type": "code",
   "execution_count": 48,
   "id": "b023e863",
   "metadata": {},
   "outputs": [
    {
     "name": "stdout",
     "output_type": "stream",
     "text": [
      "enter a number = 10\n",
      "10 x 1 = 10\n",
      "10 x 2 = 20\n",
      "10 x 3 = 30\n",
      "10 x 4 = 40\n",
      "10 x 5 = 50\n",
      "10 x 6 = 60\n",
      "10 x 7 = 70\n",
      "10 x 8 = 80\n",
      "10 x 9 = 90\n"
     ]
    }
   ],
   "source": [
    "numb = int(input (\"enter a number = \" ))\n",
    "\n",
    "print (f\"{numb} x {1} = {numb*1}\")\n",
    "print (f\"{numb} x {2} = {numb*2}\")\n",
    "print (f\"{numb} x {3} = {numb*3}\")\n",
    "print (f\"{numb} x {4} = {numb*4}\")\n",
    "print (f\"{numb} x {5} = {numb*5}\")\n",
    "print (f\"{numb} x {6} = {numb*6}\")\n",
    "print (f\"{numb} x {7} = {numb*7}\")\n",
    "print (f\"{numb} x {8} = {numb*8}\")\n",
    "print (f\"{numb} x {9} = {numb*9}\")"
   ]
  },
  {
   "cell_type": "code",
   "execution_count": 47,
   "id": "563c8445",
   "metadata": {},
   "outputs": [
    {
     "name": "stdout",
     "output_type": "stream",
     "text": [
      "what would you like to multiply? 5\n",
      "5 * 1 = 5\n",
      "5 * 2 = 10\n",
      "5 * 3 = 15\n",
      "5 * 4 = 20\n",
      "5 * 5 = 25\n",
      "5 * 6 = 30\n",
      "5 * 7 = 35\n",
      "5 * 8 = 40\n",
      "5 * 9 = 45\n"
     ]
    }
   ],
   "source": [
    "def multiplication_table (number):\n",
    "    print(f\"{number} * 1 = {number * 1}\")\n",
    "    print(f\"{number} * 2 = {number * 2}\")\n",
    "    print(f\"{number} * 3 = {number * 3}\")\n",
    "    print(f\"{number} * 4 = {number * 4}\")\n",
    "    print(f\"{number} * 5 = {number * 5}\")\n",
    "    print(f\"{number} * 6 = {number * 6}\")\n",
    "    print(f\"{number} * 7 = {number * 7}\")\n",
    "    print(f\"{number} * 8 = {number * 8}\")\n",
    "    print(f\"{number} * 9 = {number * 9}\")\n",
    "\n",
    "number = int(input(\"what would you like to multiply? \"))\n",
    "multiplication_table(number)"
   ]
  }
 ],
 "metadata": {
  "kernelspec": {
   "display_name": "Python 3 (ipykernel)",
   "language": "python",
   "name": "python3"
  },
  "language_info": {
   "codemirror_mode": {
    "name": "ipython",
    "version": 3
   },
   "file_extension": ".py",
   "mimetype": "text/x-python",
   "name": "python",
   "nbconvert_exporter": "python",
   "pygments_lexer": "ipython3",
   "version": "3.9.7"
  }
 },
 "nbformat": 4,
 "nbformat_minor": 5
}
